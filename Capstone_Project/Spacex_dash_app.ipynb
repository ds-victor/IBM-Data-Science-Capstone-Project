{
 "cells": [
  {
   "cell_type": "code",
   "execution_count": 34,
   "id": "5157e36d",
   "metadata": {},
   "outputs": [],
   "source": [
    "# Importing libraries\n",
    "import pandas as pd\n",
    "import numpy as np\n",
    "from dash import dash, dcc, html, Input, Output\n",
    "import plotly.express as px\n"
   ]
  },
  {
   "cell_type": "code",
   "execution_count": 35,
   "id": "14dc28fc",
   "metadata": {},
   "outputs": [
    {
     "data": {
      "text/html": [
       "<div>\n",
       "<style scoped>\n",
       "    .dataframe tbody tr th:only-of-type {\n",
       "        vertical-align: middle;\n",
       "    }\n",
       "\n",
       "    .dataframe tbody tr th {\n",
       "        vertical-align: top;\n",
       "    }\n",
       "\n",
       "    .dataframe thead th {\n",
       "        text-align: right;\n",
       "    }\n",
       "</style>\n",
       "<table border=\"1\" class=\"dataframe\">\n",
       "  <thead>\n",
       "    <tr style=\"text-align: right;\">\n",
       "      <th></th>\n",
       "      <th>Unnamed: 0</th>\n",
       "      <th>Flight Number</th>\n",
       "      <th>Launch Site</th>\n",
       "      <th>class</th>\n",
       "      <th>Payload Mass (kg)</th>\n",
       "      <th>Booster Version</th>\n",
       "      <th>Booster Version Category</th>\n",
       "    </tr>\n",
       "  </thead>\n",
       "  <tbody>\n",
       "    <tr>\n",
       "      <th>0</th>\n",
       "      <td>0</td>\n",
       "      <td>1</td>\n",
       "      <td>CCAFS LC-40</td>\n",
       "      <td>0</td>\n",
       "      <td>0.0</td>\n",
       "      <td>F9 v1.0  B0003</td>\n",
       "      <td>v1.0</td>\n",
       "    </tr>\n",
       "    <tr>\n",
       "      <th>1</th>\n",
       "      <td>1</td>\n",
       "      <td>2</td>\n",
       "      <td>CCAFS LC-40</td>\n",
       "      <td>0</td>\n",
       "      <td>0.0</td>\n",
       "      <td>F9 v1.0  B0004</td>\n",
       "      <td>v1.0</td>\n",
       "    </tr>\n",
       "    <tr>\n",
       "      <th>2</th>\n",
       "      <td>2</td>\n",
       "      <td>3</td>\n",
       "      <td>CCAFS LC-40</td>\n",
       "      <td>0</td>\n",
       "      <td>525.0</td>\n",
       "      <td>F9 v1.0  B0005</td>\n",
       "      <td>v1.0</td>\n",
       "    </tr>\n",
       "    <tr>\n",
       "      <th>3</th>\n",
       "      <td>3</td>\n",
       "      <td>4</td>\n",
       "      <td>CCAFS LC-40</td>\n",
       "      <td>0</td>\n",
       "      <td>500.0</td>\n",
       "      <td>F9 v1.0  B0006</td>\n",
       "      <td>v1.0</td>\n",
       "    </tr>\n",
       "    <tr>\n",
       "      <th>4</th>\n",
       "      <td>4</td>\n",
       "      <td>5</td>\n",
       "      <td>CCAFS LC-40</td>\n",
       "      <td>0</td>\n",
       "      <td>677.0</td>\n",
       "      <td>F9 v1.0  B0007</td>\n",
       "      <td>v1.0</td>\n",
       "    </tr>\n",
       "  </tbody>\n",
       "</table>\n",
       "</div>"
      ],
      "text/plain": [
       "   Unnamed: 0  Flight Number  Launch Site  class  Payload Mass (kg)  \\\n",
       "0           0              1  CCAFS LC-40      0                0.0   \n",
       "1           1              2  CCAFS LC-40      0                0.0   \n",
       "2           2              3  CCAFS LC-40      0              525.0   \n",
       "3           3              4  CCAFS LC-40      0              500.0   \n",
       "4           4              5  CCAFS LC-40      0              677.0   \n",
       "\n",
       "  Booster Version Booster Version Category  \n",
       "0  F9 v1.0  B0003                     v1.0  \n",
       "1  F9 v1.0  B0004                     v1.0  \n",
       "2  F9 v1.0  B0005                     v1.0  \n",
       "3  F9 v1.0  B0006                     v1.0  \n",
       "4  F9 v1.0  B0007                     v1.0  "
      ]
     },
     "execution_count": 35,
     "metadata": {},
     "output_type": "execute_result"
    }
   ],
   "source": [
    "# Getting the data\n",
    "spacex_df = pd.read_csv(\"https://cf-courses-data.s3.us.cloud-object-storage.appdomain.cloud/IBM-DS0321EN-SkillsNetwork/datasets/spacex_launch_dash.csv\")\n",
    "spacex_df.head()"
   ]
  },
  {
   "cell_type": "code",
   "execution_count": 36,
   "id": "b6a19728",
   "metadata": {},
   "outputs": [
    {
     "name": "stdout",
     "output_type": "stream",
     "text": [
      "Index(['Unnamed: 0', 'Flight Number', 'Launch Site', 'class',\n",
      "       'Payload Mass (kg)', 'Booster Version', 'Booster Version Category'],\n",
      "      dtype='object')\n"
     ]
    }
   ],
   "source": [
    "# Getting column names and payload range\n",
    "print(spacex_df.columns)\n",
    "max_payload = spacex_df[\"Payload Mass (kg)\"].max()\n",
    "min_payload = spacex_df[\"Payload Mass (kg)\"].min()\n",
    "\n"
   ]
  },
  {
   "cell_type": "code",
   "execution_count": 37,
   "id": "c68cc318",
   "metadata": {},
   "outputs": [],
   "source": [
    "# Creating the app skeleton\n",
    "app = dash.Dash(__name__)\n",
    "server = app.server\n",
    "\n",
    "uniquelaunchsites = spacex_df[\"Launch Site\"].unique().tolist()\n",
    "lsites = []\n",
    "lsites.append({\"label\": \"All Sites\", \"value\": \"All Sites\"})\n",
    "for site in uniquelaunchsites:\n",
    "    lsites.append({\"label\": site, \"value\": site})\n"
   ]
  },
  {
   "cell_type": "code",
   "execution_count": 38,
   "id": "943ba302",
   "metadata": {},
   "outputs": [],
   "source": [
    "# Adding the layout\n",
    "app.layout = html.Div(\n",
    "    children=[\n",
    "        html.H1(\n",
    "            \"SpaceX Launch Records Dashboard\",\n",
    "            style={\"textAlign\": \"center\", \"color\": \"#503D36\", \"font-size\": 40},\n",
    "        ),\n",
    "        dcc.Dropdown(\n",
    "            id=\"site_dropdown\",\n",
    "            options=lsites,\n",
    "            placeholder=\"Select a LaunchSite here\",\n",
    "            searchable=True,\n",
    "            value=\"All Sites\",\n",
    "        ),\n",
    "        html.Br(),\n",
    "        html.Div(dcc.Graph(id=\"success-pie-chart\")),\n",
    "        html.Br(),\n",
    "        html.P(\"Payload range (Kg):\"),\n",
    "        dcc.RangeSlider(\n",
    "            id=\"payload_slider\",\n",
    "            min=0,\n",
    "            max=10000,\n",
    "            step=1000,\n",
    "            marks={\n",
    "                0: \"0 kg\",\n",
    "                1000: \"1000 kg\",\n",
    "                2000: \"2000 kg\",\n",
    "                3000: \"3000 kg\",\n",
    "                4000: \"4000 kg\",\n",
    "                5000: \"5000 kg\",\n",
    "                6000: \"6000 kg\",\n",
    "                7000: \"7000 kg\",\n",
    "                8000: \"8000 kg\",\n",
    "                9000: \"9000 kg\",\n",
    "                10000: \"10000 kg\",\n",
    "            },\n",
    "            value=[min_payload, max_payload],\n",
    "        ),\n",
    "        html.Div(dcc.Graph(id=\"success-payload-scatter-chart\")),\n",
    "    ]\n",
    ")\n"
   ]
  },
  {
   "cell_type": "code",
   "execution_count": 40,
   "id": "e1a1acc8",
   "metadata": {},
   "outputs": [],
   "source": [
    "# Adding Plots\n",
    "@app.callback(\n",
    "    Output(component_id=\"success-pie-chart\", component_property=\"figure\"),\n",
    "    Input(component_id=\"site_dropdown\", component_property=\"value\")\n",
    ")\n",
    "def update_graph(site_dropdown):\n",
    "    if site_dropdown == \"All Sites\":\n",
    "        df = spacex_df[spacex_df[\"class\"] == 1]\n",
    "        fig = px.pie(\n",
    "            df,\n",
    "            names=\"Launch Site\",\n",
    "            hole=0.3,\n",
    "            title=\"Total Success Launches By all sites\",\n",
    "        )\n",
    "    else:\n",
    "        df = spacex_df.loc[spacex_df[\"Launch Site\"] == site_dropdown]\n",
    "        fig = px.pie(\n",
    "            df,\n",
    "            names=\"class\",\n",
    "            hole=0.3,\n",
    "            title=\"Total Success Launches for site \" + site_dropdown,\n",
    "        )\n",
    "    return fig\n"
   ]
  },
  {
   "cell_type": "code",
   "execution_count": 39,
   "id": "83bba2cb",
   "metadata": {},
   "outputs": [],
   "source": [
    "# Adding plots\n",
    "@app.callback(\n",
    "    Output(component_id=\"success-payload-scatter-chart\", component_property=\"figure\"),\n",
    "    [\n",
    "        Input(component_id=\"site_dropdown\", component_property=\"value\"),\n",
    "        Input(component_id=\"payload_slider\", component_property=\"value\"),\n",
    "    ],\n",
    ")\n",
    "def update_scattergraph(site_dropdown, payload_slider):\n",
    "    if site_dropdown == \"All Sites\":\n",
    "        low, high = payload_slider\n",
    "        df = spacex_df\n",
    "        mask = (df[\"Payload Mass (kg)\"] > low) & (df[\"Payload Mass (kg)\"] < high)\n",
    "        fig = px.scatter(\n",
    "            df[mask],\n",
    "            x=\"Payload Mass (kg)\",\n",
    "            y=\"class\",\n",
    "            color=\"Booster Version\",\n",
    "            size=\"Payload Mass (kg)\",\n",
    "            hover_data=[\"Payload Mass (kg)\"],\n",
    "        )\n",
    "    else:\n",
    "        low, high = payload_slider\n",
    "        df = spacex_df.loc[spacex_df[\"Launch Site\"] == site_dropdown]\n",
    "        mask = (df[\"Payload Mass (kg)\"] > low) & (df[\"Payload Mass (kg)\"] < high)\n",
    "        fig = px.scatter(\n",
    "            df[mask],\n",
    "            x=\"Payload Mass (kg)\",\n",
    "            y=\"class\",\n",
    "            color=\"Booster Version\",\n",
    "            size=\"Payload Mass (kg)\",\n",
    "            hover_data=[\"Payload Mass (kg)\"],\n",
    "        )\n",
    "    return fig"
   ]
  },
  {
   "cell_type": "code",
   "execution_count": 29,
   "id": "723988cc",
   "metadata": {},
   "outputs": [
    {
     "data": {
      "text/html": [
       "\n",
       "        <iframe\n",
       "            width=\"100%\"\n",
       "            height=\"650\"\n",
       "            src=\"http://127.0.0.1:8050/\"\n",
       "            frameborder=\"0\"\n",
       "            allowfullscreen\n",
       "            \n",
       "        ></iframe>\n",
       "        "
      ],
      "text/plain": [
       "<IPython.lib.display.IFrame at 0x1cafde2ed90>"
      ]
     },
     "metadata": {},
     "output_type": "display_data"
    }
   ],
   "source": [
    "if __name__ == \"__main__\":\n",
    "    app.run_server(debug=False)"
   ]
  },
  {
   "cell_type": "code",
   "execution_count": 33,
   "id": "8e32a434",
   "metadata": {},
   "outputs": [],
   "source": [
    "spacex_df.to_csv(r\"C:\\Users\\sahaj\\Downloads\\spacex_launch_dashboard.csv\")"
   ]
  },
  {
   "cell_type": "code",
   "execution_count": null,
   "id": "f3388951",
   "metadata": {},
   "outputs": [],
   "source": []
  }
 ],
 "metadata": {
  "kernelspec": {
   "display_name": "Python 3 (ipykernel)",
   "language": "python",
   "name": "python3"
  },
  "language_info": {
   "codemirror_mode": {
    "name": "ipython",
    "version": 3
   },
   "file_extension": ".py",
   "mimetype": "text/x-python",
   "name": "python",
   "nbconvert_exporter": "python",
   "pygments_lexer": "ipython3",
   "version": "3.9.12"
  }
 },
 "nbformat": 4,
 "nbformat_minor": 5
}
